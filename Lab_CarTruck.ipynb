{
  "cells": [
    {
      "cell_type": "code",
      "execution_count": null,
      "metadata": {
        "colab": {
          "base_uri": "https://localhost:8080/"
        },
        "id": "jfURcV0Og-py",
        "outputId": "d8971a48-c177-4608-e777-b331d2130517"
      },
      "outputs": [
        {
          "output_type": "stream",
          "name": "stdout",
          "text": [
            "Downloading...\n",
            "From: https://drive.google.com/uc?id=1EamxQYrDhAkFHtEQqWPb-00FC5XkAD-n\n",
            "To: /content/CarTruck.zip\n",
            "100% 82.1M/82.1M [00:00<00:00, 276MB/s]\n"
          ]
        }
      ],
      "source": [
        "!gdown 1EamxQYrDhAkFHtEQqWPb-00FC5XkAD-n"
      ]
    },
    {
      "cell_type": "code",
      "execution_count": null,
      "metadata": {
        "colab": {
          "base_uri": "https://localhost:8080/"
        },
        "id": "2SknnGUIiJ5d",
        "outputId": "8f7c16e1-4e8b-4ab9-9ccf-330d8dab2dcf"
      },
      "outputs": [
        {
          "metadata": {
            "tags": null
          },
          "name": "stdout",
          "output_type": "stream",
          "text": [
            "Archive:  CarTruck.zip\n",
            "replace CarTruck/test/Car/09847.jpeg? [y]es, [n]o, [A]ll, [N]one, [r]ename: "
          ]
        }
      ],
      "source": [
        "!unzip CarTruck.zip"
      ]
    },
    {
      "cell_type": "code",
      "execution_count": null,
      "metadata": {
        "id": "ahacAzGmiS-0",
        "colab": {
          "base_uri": "https://localhost:8080/"
        },
        "outputId": "0a801777-c2c8-4023-e7fd-27c7ab256f53"
      },
      "outputs": [
        {
          "output_type": "stream",
          "name": "stdout",
          "text": [
            "Found 8134 files belonging to 2 classes.\n",
            "Found 1016 files belonging to 2 classes.\n",
            "Found 1018 files belonging to 2 classes.\n"
          ]
        }
      ],
      "source": [
        "from tensorflow.python.ops.math_ops import truncate_div\n",
        "# Imports\n",
        "import os, warnings\n",
        "\n",
        "import numpy as np\n",
        "import tensorflow as tf\n",
        "from tensorflow.keras.preprocessing import image_dataset_from_directory\n",
        "\n",
        "# Reproducability\n",
        "def set_seed(seed=31415):\n",
        "    np.random.seed(seed)\n",
        "    tf.random.set_seed(seed)\n",
        "    os.environ['PYTHONHASHSEED'] = str(seed)\n",
        "    os.environ['TF_DETERMINISTIC_OPS'] = '1'\n",
        "set_seed(31415)\n",
        "\n",
        "\n",
        "# Load training and validation sets\n",
        "ds_train_ = image_dataset_from_directory(\n",
        "    'CarTruck/train',\n",
        "    labels='inferred',\n",
        "    label_mode='binary',\n",
        "    image_size=[128, 128],\n",
        "    interpolation='nearest',\n",
        "    batch_size=64,\n",
        "    shuffle=True,\n",
        "    #validation_split=0.3;\n",
        "    #subset='training',\n",
        "    #seed=1\n",
        ")\n",
        "ds_valid_ = image_dataset_from_directory(\n",
        "    'CarTruck/val',\n",
        "    labels='inferred',\n",
        "    label_mode='binary',\n",
        "    image_size=[128, 128],\n",
        "    interpolation='nearest',\n",
        "    batch_size=64,\n",
        "    shuffle=True,\n",
        "    #validation_split=0.3;\n",
        "    #subset='validation',\n",
        "    #seed=1\n",
        ")\n",
        "ds_test_ = image_dataset_from_directory(\n",
        "    'CarTruck/test',\n",
        "    labels='inferred',\n",
        "    label_mode='binary',\n",
        "    image_size=[128, 128],\n",
        "    interpolation='nearest',\n",
        "    batch_size=64,\n",
        "    shuffle=truncate_div,\n",
        ")\n"
      ]
    },
    {
      "cell_type": "code",
      "execution_count": null,
      "metadata": {
        "id": "bVFNbeEGkJBt"
      },
      "outputs": [],
      "source": [
        "def convert_to_float(image, label):\n",
        "    image = tf.image.convert_image_dtype(image, dtype=tf.float32)\n",
        "    return image, label\n",
        "\n",
        "AUTOTUNE = tf.data.experimental.AUTOTUNE\n",
        "ds_train = (\n",
        "    ds_train_\n",
        "    .map(convert_to_float)\n",
        "    .cache()\n",
        "    .prefetch(buffer_size=AUTOTUNE)\n",
        ")\n",
        "ds_valid = (\n",
        "    ds_valid_\n",
        "    .map(convert_to_float)\n",
        "    .cache()\n",
        "    .prefetch(buffer_size=AUTOTUNE)\n",
        ")\n",
        "ds_test= (\n",
        "    ds_test_\n",
        "    .map(convert_to_float)\n",
        "    .cache()\n",
        "    .prefetch(buffer_size=AUTOTUNE)\n",
        ")"
      ]
    },
    {
      "cell_type": "code",
      "execution_count": null,
      "metadata": {
        "id": "TJBbKA09kQAF"
      },
      "outputs": [],
      "source": [
        "from tensorflow import keras\n",
        "from tensorflow.keras import layers\n",
        "\n",
        "model = keras.Sequential([\n",
        "\n",
        "    #CNN\n",
        "    layers.Conv2D(filters=32, kernel_size=3,activation='relu'), # activation is None\n",
        "    layers.MaxPooling2D(),\n",
        "    layers.Conv2D(filters=64, kernel_size=3,activation='relu'), # activation is None\n",
        "    layers.MaxPooling2D(),\n",
        "    layers.Conv2D(filters=128, kernel_size=3,activation='relu'), # activation is None\n",
        "    layers.MaxPooling2D(),\n",
        "    layers.Conv2D(filters=256, kernel_size=3,activation='relu'), # activation is None\n",
        "    layers.MaxPooling2D(),\n",
        "\n",
        "    #Classification\n",
        "    layers.Flatten(),\n",
        "    layers.Dense(6, activation='relu'),\n",
        "    layers.Dense(1, activation='sigmoid'),\n",
        "])"
      ]
    },
    {
      "cell_type": "code",
      "execution_count": null,
      "metadata": {
        "colab": {
          "base_uri": "https://localhost:8080/"
        },
        "id": "7WZeBFnfoWvD",
        "outputId": "fe2feb64-b526-4ed3-9eb9-5e4a27e51dba"
      },
      "outputs": [
        {
          "output_type": "stream",
          "name": "stdout",
          "text": [
            "Epoch 1/5\n",
            "128/128 [==============================] - 25s 62ms/step - loss: 0.6542 - binary_accuracy: 0.5894 - val_loss: 0.6027 - val_binary_accuracy: 0.6811\n",
            "Epoch 2/5\n",
            "128/128 [==============================] - 5s 42ms/step - loss: 0.5766 - binary_accuracy: 0.7151 - val_loss: 0.5702 - val_binary_accuracy: 0.7303\n",
            "Epoch 3/5\n",
            "128/128 [==============================] - 5s 37ms/step - loss: 0.5314 - binary_accuracy: 0.7569 - val_loss: 0.5146 - val_binary_accuracy: 0.7835\n",
            "Epoch 4/5\n",
            "128/128 [==============================] - 5s 37ms/step - loss: 0.4934 - binary_accuracy: 0.7910 - val_loss: 0.4853 - val_binary_accuracy: 0.8150\n",
            "Epoch 5/5\n",
            "128/128 [==============================] - 5s 36ms/step - loss: 0.4483 - binary_accuracy: 0.8221 - val_loss: 0.4525 - val_binary_accuracy: 0.8297\n"
          ]
        }
      ],
      "source": [
        "model.compile(\n",
        "    optimizer='adam',\n",
        "    loss='binary_crossentropy',\n",
        "    metrics=['binary_accuracy'],\n",
        ")\n",
        "\n",
        "history = model.fit(\n",
        "    ds_train,\n",
        "    validation_data=ds_valid,\n",
        "    epochs=5,\n",
        "    verbose=1,\n",
        ")"
      ]
    },
    {
      "cell_type": "code",
      "source": [
        "model.save('./Models/my_model.keras')"
      ],
      "metadata": {
        "id": "jmqu-W4QgIli"
      },
      "execution_count": null,
      "outputs": []
    },
    {
      "cell_type": "code",
      "execution_count": null,
      "metadata": {
        "colab": {
          "base_uri": "https://localhost:8080/",
          "height": 843
        },
        "id": "zpZmJcDxokIr",
        "outputId": "1a69765e-77d0-486c-81e7-ccdb32587686"
      },
      "outputs": [
        {
          "output_type": "display_data",
          "data": {
            "text/plain": [
              "<Figure size 640x480 with 1 Axes>"
            ],
            "image/png": "[encoded data removed]"
          },
          "metadata": {}
        },
        {
          "output_type": "display_data",
          "data": {
            "text/plain": [
              "<Figure size 640x480 with 1 Axes>"
            ],
            "image/png": "[encoded data removed]"
          },
          "metadata": {}
        }
      ],
      "source": [
        "import pandas as pd\n",
        "\n",
        "history_frame = pd.DataFrame(history.history)\n",
        "history_frame.loc[:, ['loss', 'val_loss']].plot()\n",
        "history_frame.loc[:, ['binary_accuracy', 'val_binary_accuracy']].plot();"
      ]
    },
    {
      "cell_type": "code",
      "execution_count": null,
      "metadata": {
        "colab": {
          "base_uri": "https://localhost:8080/"
        },
        "id": "83EKYjPFqc64",
        "outputId": "9ea87d27-e141-40bc-b468-47027d2ca6b3"
      },
      "outputs": [
        {
          "output_type": "stream",
          "name": "stdout",
          "text": [
            "16/16 [==============================] - 1s 27ms/step - loss: 0.4807 - binary_accuracy: 0.8202\n",
            "Test accuracy: 0.820\n",
            "Test loss: 0.481\n"
          ]
        }
      ],
      "source": [
        "test_loss, test_acc = model.evaluate(ds_test)\n",
        "print(f\"Test accuracy: {test_acc:.3f}\")\n",
        "print(f\"Test loss: {test_loss:.3f}\")"
      ]
    },
    {
      "cell_type": "code",
      "execution_count": null,
      "metadata": {
        "id": "Hg_c6pqds7E2",
        "colab": {
          "base_uri": "https://localhost:8080/"
        },
        "outputId": "0e5ef512-a442-40f7-8cdf-69736bc52112"
      },
      "outputs": [
        {
          "output_type": "stream",
          "name": "stdout",
          "text": [
            "Downloading data from https://storage.googleapis.com/tensorflow/keras-applications/mobilenet_v2/mobilenet_v2_weights_tf_dim_ordering_tf_kernels_1.0_128_no_top.h5\n",
            "9406464/9406464 [==============================] - 0s 0us/step\n"
          ]
        }
      ],
      "source": [
        "from tensorflow.keras.applications.mobilenet_v2 import MobileNetV2\n",
        "\n",
        "pretrained_base = MobileNetV2(include_top=False,weights='imagenet',input_shape=(128,128,3))\n",
        "pretrained_base.trainable = False"
      ]
    },
    {
      "cell_type": "code",
      "execution_count": null,
      "metadata": {
        "id": "d8EBO4sAxRq3"
      },
      "outputs": [],
      "source": [
        "callbacks = [\n",
        "\n",
        "    tf.keras.callbacks.ModelCheckpoint(\n",
        "        './Models/CheckPoint/CarTruckMobile.ckpt',\n",
        "        monitor='val_binary_accuracy',\n",
        "        save_best_only=True,\n",
        "        save_weights_only=True,\n",
        "        verbose=1,\n",
        "\n",
        "    ),\n",
        "\n",
        "]"
      ]
    },
    {
      "cell_type": "code",
      "execution_count": null,
      "metadata": {
        "id": "UrAZS6l7t1Dn"
      },
      "outputs": [],
      "source": [
        "from tensorflow import keras\n",
        "from tensorflow.keras import layers\n",
        "\n",
        "model2 = keras.Sequential([\n",
        "    pretrained_base,\n",
        "    #Classification\n",
        "    layers.Flatten(),\n",
        "    layers.Dense(6, activation='relu'),\n",
        "    layers.Dense(1, activation='sigmoid'),\n",
        "])"
      ]
    },
    {
      "cell_type": "code",
      "execution_count": null,
      "metadata": {
        "colab": {
          "base_uri": "https://localhost:8080/"
        },
        "id": "6NctIgL9uLq_",
        "outputId": "bdb6d4a6-41bc-474e-b235-64109f18ce54"
      },
      "outputs": [
        {
          "output_type": "stream",
          "name": "stdout",
          "text": [
            "Epoch 1/50\n",
            "127/128 [============================>.] - ETA: 0s - loss: 0.0877 - binary_accuracy: 0.9845\n",
            "Epoch 1: val_binary_accuracy improved from 0.90453 to 0.90748, saving model to ./Models/CheckPoint/CarTruckMobile.ckpt\n",
            "128/128 [==============================] - 9s 45ms/step - loss: 0.0876 - binary_accuracy: 0.9845 - val_loss: 0.3390 - val_binary_accuracy: 0.9075\n",
            "Epoch 2/50\n",
            "127/128 [============================>.] - ETA: 0s - loss: 0.0820 - binary_accuracy: 0.9854\n",
            "Epoch 2: val_binary_accuracy did not improve from 0.90748\n",
            "128/128 [==============================] - 4s 34ms/step - loss: 0.0819 - binary_accuracy: 0.9854 - val_loss: 0.3140 - val_binary_accuracy: 0.9055\n",
            "Epoch 3/50\n",
            "127/128 [============================>.] - ETA: 0s - loss: 0.0754 - binary_accuracy: 0.9871\n",
            "Epoch 3: val_binary_accuracy did not improve from 0.90748\n",
            "128/128 [==============================] - 4s 35ms/step - loss: 0.0753 - binary_accuracy: 0.9871 - val_loss: 0.3558 - val_binary_accuracy: 0.9045\n",
            "Epoch 4/50\n",
            "127/128 [============================>.] - ETA: 0s - loss: 0.0719 - binary_accuracy: 0.9875\n",
            "Epoch 4: val_binary_accuracy did not improve from 0.90748\n",
            "128/128 [==============================] - 4s 34ms/step - loss: 0.0718 - binary_accuracy: 0.9875 - val_loss: 0.4325 - val_binary_accuracy: 0.9026\n",
            "Epoch 5/50\n",
            "127/128 [============================>.] - ETA: 0s - loss: 0.0698 - binary_accuracy: 0.9875\n",
            "Epoch 5: val_binary_accuracy did not improve from 0.90748\n",
            "128/128 [==============================] - 4s 34ms/step - loss: 0.0698 - binary_accuracy: 0.9875 - val_loss: 0.4205 - val_binary_accuracy: 0.9075\n",
            "Epoch 6/50\n",
            "127/128 [============================>.] - ETA: 0s - loss: 0.0680 - binary_accuracy: 0.9875\n",
            "Epoch 6: val_binary_accuracy did not improve from 0.90748\n",
            "128/128 [==============================] - 5s 37ms/step - loss: 0.0680 - binary_accuracy: 0.9875 - val_loss: 0.4276 - val_binary_accuracy: 0.9065\n",
            "Epoch 7/50\n",
            "127/128 [============================>.] - ETA: 0s - loss: 0.0667 - binary_accuracy: 0.9875\n",
            "Epoch 7: val_binary_accuracy did not improve from 0.90748\n",
            "128/128 [==============================] - 4s 34ms/step - loss: 0.0667 - binary_accuracy: 0.9875 - val_loss: 0.4413 - val_binary_accuracy: 0.9055\n",
            "Epoch 8/50\n",
            "127/128 [============================>.] - ETA: 0s - loss: 0.0657 - binary_accuracy: 0.9875\n",
            "Epoch 8: val_binary_accuracy did not improve from 0.90748\n",
            "128/128 [==============================] - 5s 35ms/step - loss: 0.0656 - binary_accuracy: 0.9875 - val_loss: 0.4227 - val_binary_accuracy: 0.9065\n",
            "Epoch 9/50\n",
            "126/128 [============================>.] - ETA: 0s - loss: 0.0644 - binary_accuracy: 0.9876\n",
            "Epoch 9: val_binary_accuracy did not improve from 0.90748\n",
            "128/128 [==============================] - 5s 35ms/step - loss: 0.0648 - binary_accuracy: 0.9875 - val_loss: 0.4555 - val_binary_accuracy: 0.9035\n",
            "Epoch 10/50\n",
            "127/128 [============================>.] - ETA: 0s - loss: 0.0641 - binary_accuracy: 0.9875\n",
            "Epoch 10: val_binary_accuracy did not improve from 0.90748\n",
            "128/128 [==============================] - 4s 34ms/step - loss: 0.0641 - binary_accuracy: 0.9875 - val_loss: 0.4420 - val_binary_accuracy: 0.9065\n",
            "Epoch 11/50\n",
            "127/128 [============================>.] - ETA: 0s - loss: 0.0635 - binary_accuracy: 0.9875\n",
            "Epoch 11: val_binary_accuracy did not improve from 0.90748\n",
            "128/128 [==============================] - 5s 36ms/step - loss: 0.0635 - binary_accuracy: 0.9875 - val_loss: 0.4761 - val_binary_accuracy: 0.9016\n",
            "Epoch 12/50\n",
            "127/128 [============================>.] - ETA: 0s - loss: 0.0630 - binary_accuracy: 0.9875\n",
            "Epoch 12: val_binary_accuracy did not improve from 0.90748\n",
            "128/128 [==============================] - 5s 37ms/step - loss: 0.0630 - binary_accuracy: 0.9875 - val_loss: 0.4894 - val_binary_accuracy: 0.9016\n",
            "Epoch 13/50\n",
            "128/128 [==============================] - ETA: 0s - loss: 0.0626 - binary_accuracy: 0.9875\n",
            "Epoch 13: val_binary_accuracy did not improve from 0.90748\n",
            "128/128 [==============================] - 5s 39ms/step - loss: 0.0626 - binary_accuracy: 0.9875 - val_loss: 0.4791 - val_binary_accuracy: 0.9035\n",
            "Epoch 14/50\n",
            "127/128 [============================>.] - ETA: 0s - loss: 0.0623 - binary_accuracy: 0.9875\n",
            "Epoch 14: val_binary_accuracy did not improve from 0.90748\n",
            "128/128 [==============================] - 5s 36ms/step - loss: 0.0622 - binary_accuracy: 0.9875 - val_loss: 0.5033 - val_binary_accuracy: 0.8996\n",
            "Epoch 15/50\n",
            "127/128 [============================>.] - ETA: 0s - loss: 0.0620 - binary_accuracy: 0.9875\n",
            "Epoch 15: val_binary_accuracy did not improve from 0.90748\n",
            "128/128 [==============================] - 4s 34ms/step - loss: 0.0620 - binary_accuracy: 0.9875 - val_loss: 0.5312 - val_binary_accuracy: 0.8937\n",
            "Epoch 16/50\n",
            "127/128 [============================>.] - ETA: 0s - loss: 0.0618 - binary_accuracy: 0.9875\n",
            "Epoch 16: val_binary_accuracy did not improve from 0.90748\n",
            "128/128 [==============================] - 5s 36ms/step - loss: 0.0618 - binary_accuracy: 0.9875 - val_loss: 0.4855 - val_binary_accuracy: 0.9035\n",
            "Epoch 17/50\n",
            "127/128 [============================>.] - ETA: 0s - loss: 0.0616 - binary_accuracy: 0.9875\n",
            "Epoch 17: val_binary_accuracy did not improve from 0.90748\n",
            "128/128 [==============================] - 4s 34ms/step - loss: 0.0616 - binary_accuracy: 0.9875 - val_loss: 0.5090 - val_binary_accuracy: 0.9026\n",
            "Epoch 18/50\n",
            "127/128 [============================>.] - ETA: 0s - loss: 0.0614 - binary_accuracy: 0.9875\n",
            "Epoch 18: val_binary_accuracy did not improve from 0.90748\n",
            "128/128 [==============================] - 4s 34ms/step - loss: 0.0614 - binary_accuracy: 0.9875 - val_loss: 0.5012 - val_binary_accuracy: 0.9035\n",
            "Epoch 19/50\n",
            "127/128 [============================>.] - ETA: 0s - loss: 0.0613 - binary_accuracy: 0.9875\n",
            "Epoch 19: val_binary_accuracy did not improve from 0.90748\n",
            "128/128 [==============================] - 5s 36ms/step - loss: 0.0613 - binary_accuracy: 0.9875 - val_loss: 0.5442 - val_binary_accuracy: 0.8937\n",
            "Epoch 20/50\n",
            "127/128 [============================>.] - ETA: 0s - loss: 0.0612 - binary_accuracy: 0.9875\n",
            "Epoch 20: val_binary_accuracy did not improve from 0.90748\n",
            "128/128 [==============================] - 4s 34ms/step - loss: 0.0612 - binary_accuracy: 0.9875 - val_loss: 0.5045 - val_binary_accuracy: 0.9035\n",
            "Epoch 21/50\n",
            "127/128 [============================>.] - ETA: 0s - loss: 0.0611 - binary_accuracy: 0.9875\n",
            "Epoch 21: val_binary_accuracy did not improve from 0.90748\n",
            "128/128 [==============================] - 4s 34ms/step - loss: 0.0611 - binary_accuracy: 0.9875 - val_loss: 0.4123 - val_binary_accuracy: 0.9075\n",
            "Epoch 22/50\n",
            "127/128 [============================>.] - ETA: 0s - loss: 0.0611 - binary_accuracy: 0.9875\n",
            "Epoch 22: val_binary_accuracy did not improve from 0.90748\n",
            "128/128 [==============================] - 4s 35ms/step - loss: 0.0610 - binary_accuracy: 0.9875 - val_loss: 0.4887 - val_binary_accuracy: 0.9045\n",
            "Epoch 23/50\n",
            "127/128 [============================>.] - ETA: 0s - loss: 0.0999 - binary_accuracy: 0.9769\n",
            "Epoch 23: val_binary_accuracy improved from 0.90748 to 0.90945, saving model to ./Models/CheckPoint/CarTruckMobile.ckpt\n",
            "128/128 [==============================] - 5s 36ms/step - loss: 0.0998 - binary_accuracy: 0.9769 - val_loss: 0.4540 - val_binary_accuracy: 0.9094\n",
            "Epoch 24/50\n",
            "127/128 [============================>.] - ETA: 0s - loss: 0.0870 - binary_accuracy: 0.9774\n",
            "Epoch 24: val_binary_accuracy did not improve from 0.90945\n",
            "128/128 [==============================] - 5s 36ms/step - loss: 0.0869 - binary_accuracy: 0.9774 - val_loss: 0.3722 - val_binary_accuracy: 0.9035\n",
            "Epoch 25/50\n",
            "127/128 [============================>.] - ETA: 0s - loss: 0.0663 - binary_accuracy: 0.9856\n",
            "Epoch 25: val_binary_accuracy did not improve from 0.90945\n",
            "128/128 [==============================] - 4s 34ms/step - loss: 0.0662 - binary_accuracy: 0.9856 - val_loss: 0.3862 - val_binary_accuracy: 0.9055\n",
            "Epoch 26/50\n",
            "127/128 [============================>.] - ETA: 0s - loss: 0.0621 - binary_accuracy: 0.9871\n",
            "Epoch 26: val_binary_accuracy did not improve from 0.90945\n",
            "128/128 [==============================] - 4s 34ms/step - loss: 0.0621 - binary_accuracy: 0.9871 - val_loss: 0.3971 - val_binary_accuracy: 0.9016\n",
            "Epoch 27/50\n",
            "127/128 [============================>.] - ETA: 0s - loss: 0.0606 - binary_accuracy: 0.9877\n",
            "Epoch 27: val_binary_accuracy did not improve from 0.90945\n",
            "128/128 [==============================] - 5s 35ms/step - loss: 0.0606 - binary_accuracy: 0.9877 - val_loss: 0.4674 - val_binary_accuracy: 0.9006\n",
            "Epoch 28/50\n",
            "127/128 [============================>.] - ETA: 0s - loss: 0.0592 - binary_accuracy: 0.9879\n",
            "Epoch 28: val_binary_accuracy did not improve from 0.90945\n",
            "128/128 [==============================] - 4s 35ms/step - loss: 0.0592 - binary_accuracy: 0.9880 - val_loss: 0.4831 - val_binary_accuracy: 0.8986\n",
            "Epoch 29/50\n",
            "127/128 [============================>.] - ETA: 0s - loss: 0.0591 - binary_accuracy: 0.9879\n",
            "Epoch 29: val_binary_accuracy did not improve from 0.90945\n",
            "128/128 [==============================] - 5s 36ms/step - loss: 0.0590 - binary_accuracy: 0.9880 - val_loss: 0.5028 - val_binary_accuracy: 0.8976\n",
            "Epoch 30/50\n",
            "127/128 [============================>.] - ETA: 0s - loss: 0.0590 - binary_accuracy: 0.9879\n",
            "Epoch 30: val_binary_accuracy did not improve from 0.90945\n",
            "128/128 [==============================] - 4s 35ms/step - loss: 0.0590 - binary_accuracy: 0.9880 - val_loss: 0.5066 - val_binary_accuracy: 0.8957\n",
            "Epoch 31/50\n",
            "127/128 [============================>.] - ETA: 0s - loss: 0.0590 - binary_accuracy: 0.9879\n",
            "Epoch 31: val_binary_accuracy did not improve from 0.90945\n",
            "128/128 [==============================] - 4s 34ms/step - loss: 0.0590 - binary_accuracy: 0.9880 - val_loss: 0.5092 - val_binary_accuracy: 0.8967\n",
            "Epoch 32/50\n",
            "127/128 [============================>.] - ETA: 0s - loss: 0.0590 - binary_accuracy: 0.9879\n",
            "Epoch 32: val_binary_accuracy did not improve from 0.90945\n",
            "128/128 [==============================] - 5s 35ms/step - loss: 0.0589 - binary_accuracy: 0.9880 - val_loss: 0.5099 - val_binary_accuracy: 0.8957\n",
            "Epoch 33/50\n",
            "127/128 [============================>.] - ETA: 0s - loss: 0.0590 - binary_accuracy: 0.9879\n",
            "Epoch 33: val_binary_accuracy did not improve from 0.90945\n",
            "128/128 [==============================] - 4s 34ms/step - loss: 0.0589 - binary_accuracy: 0.9880 - val_loss: 0.5104 - val_binary_accuracy: 0.8957\n",
            "Epoch 34/50\n",
            "127/128 [============================>.] - ETA: 0s - loss: 0.0589 - binary_accuracy: 0.9879\n",
            "Epoch 34: val_binary_accuracy did not improve from 0.90945\n",
            "128/128 [==============================] - 5s 36ms/step - loss: 0.0589 - binary_accuracy: 0.9880 - val_loss: 0.5119 - val_binary_accuracy: 0.8967\n",
            "Epoch 35/50\n",
            "127/128 [============================>.] - ETA: 0s - loss: 0.0589 - binary_accuracy: 0.9879\n",
            "Epoch 35: val_binary_accuracy did not improve from 0.90945\n",
            "128/128 [==============================] - 4s 34ms/step - loss: 0.0589 - binary_accuracy: 0.9880 - val_loss: 0.5035 - val_binary_accuracy: 0.8986\n",
            "Epoch 36/50\n",
            "127/128 [============================>.] - ETA: 0s - loss: 0.0589 - binary_accuracy: 0.9879\n",
            "Epoch 36: val_binary_accuracy did not improve from 0.90945\n",
            "128/128 [==============================] - 4s 34ms/step - loss: 0.0589 - binary_accuracy: 0.9880 - val_loss: 0.5118 - val_binary_accuracy: 0.8967\n",
            "Epoch 37/50\n",
            "127/128 [============================>.] - ETA: 0s - loss: 0.0589 - binary_accuracy: 0.9879\n",
            "Epoch 37: val_binary_accuracy did not improve from 0.90945\n",
            "128/128 [==============================] - 5s 35ms/step - loss: 0.0589 - binary_accuracy: 0.9880 - val_loss: 0.5110 - val_binary_accuracy: 0.8957\n",
            "Epoch 38/50\n",
            "127/128 [============================>.] - ETA: 0s - loss: 0.0589 - binary_accuracy: 0.9879\n",
            "Epoch 38: val_binary_accuracy did not improve from 0.90945\n",
            "128/128 [==============================] - 4s 34ms/step - loss: 0.0589 - binary_accuracy: 0.9880 - val_loss: 0.5093 - val_binary_accuracy: 0.8967\n",
            "Epoch 39/50\n",
            "127/128 [============================>.] - ETA: 0s - loss: 0.0589 - binary_accuracy: 0.9879\n",
            "Epoch 39: val_binary_accuracy did not improve from 0.90945\n",
            "128/128 [==============================] - 4s 34ms/step - loss: 0.0589 - binary_accuracy: 0.9880 - val_loss: 0.5122 - val_binary_accuracy: 0.8957\n",
            "Epoch 40/50\n",
            "127/128 [============================>.] - ETA: 0s - loss: 0.0589 - binary_accuracy: 0.9879\n",
            "Epoch 40: val_binary_accuracy did not improve from 0.90945\n",
            "128/128 [==============================] - 4s 35ms/step - loss: 0.0589 - binary_accuracy: 0.9880 - val_loss: 0.5167 - val_binary_accuracy: 0.8967\n",
            "Epoch 41/50\n",
            "127/128 [============================>.] - ETA: 0s - loss: 0.0589 - binary_accuracy: 0.9879\n",
            "Epoch 41: val_binary_accuracy did not improve from 0.90945\n",
            "128/128 [==============================] - 4s 35ms/step - loss: 0.0589 - binary_accuracy: 0.9880 - val_loss: 0.5166 - val_binary_accuracy: 0.8976\n",
            "Epoch 42/50\n",
            "127/128 [============================>.] - ETA: 0s - loss: 0.0589 - binary_accuracy: 0.9879\n",
            "Epoch 42: val_binary_accuracy did not improve from 0.90945\n",
            "128/128 [==============================] - 4s 34ms/step - loss: 0.0589 - binary_accuracy: 0.9880 - val_loss: 0.5127 - val_binary_accuracy: 0.8976\n",
            "Epoch 43/50\n",
            "127/128 [============================>.] - ETA: 0s - loss: 0.0589 - binary_accuracy: 0.9879\n",
            "Epoch 43: val_binary_accuracy did not improve from 0.90945\n",
            "128/128 [==============================] - 5s 35ms/step - loss: 0.0588 - binary_accuracy: 0.9880 - val_loss: 0.5139 - val_binary_accuracy: 0.8976\n",
            "Epoch 44/50\n",
            "127/128 [============================>.] - ETA: 0s - loss: 0.0589 - binary_accuracy: 0.9879\n",
            "Epoch 44: val_binary_accuracy did not improve from 0.90945\n",
            "128/128 [==============================] - 4s 34ms/step - loss: 0.0588 - binary_accuracy: 0.9880 - val_loss: 0.5094 - val_binary_accuracy: 0.8996\n",
            "Epoch 45/50\n",
            "127/128 [============================>.] - ETA: 0s - loss: 0.0589 - binary_accuracy: 0.9879\n",
            "Epoch 45: val_binary_accuracy did not improve from 0.90945\n",
            "128/128 [==============================] - 5s 35ms/step - loss: 0.0588 - binary_accuracy: 0.9880 - val_loss: 0.5121 - val_binary_accuracy: 0.8996\n",
            "Epoch 46/50\n",
            "127/128 [============================>.] - ETA: 0s - loss: 0.0589 - binary_accuracy: 0.9879\n",
            "Epoch 46: val_binary_accuracy did not improve from 0.90945\n",
            "128/128 [==============================] - 4s 34ms/step - loss: 0.0588 - binary_accuracy: 0.9880 - val_loss: 0.5180 - val_binary_accuracy: 0.8967\n",
            "Epoch 47/50\n",
            "127/128 [============================>.] - ETA: 0s - loss: 0.0589 - binary_accuracy: 0.9879\n",
            "Epoch 47: val_binary_accuracy did not improve from 0.90945\n",
            "128/128 [==============================] - 4s 34ms/step - loss: 0.0588 - binary_accuracy: 0.9880 - val_loss: 0.5228 - val_binary_accuracy: 0.8967\n",
            "Epoch 48/50\n",
            "127/128 [============================>.] - ETA: 0s - loss: 0.0589 - binary_accuracy: 0.9879\n",
            "Epoch 48: val_binary_accuracy did not improve from 0.90945\n",
            "128/128 [==============================] - 5s 35ms/step - loss: 0.0588 - binary_accuracy: 0.9880 - val_loss: 0.5184 - val_binary_accuracy: 0.8986\n",
            "Epoch 49/50\n",
            "127/128 [============================>.] - ETA: 0s - loss: 0.0589 - binary_accuracy: 0.9879\n",
            "Epoch 49: val_binary_accuracy did not improve from 0.90945\n",
            "128/128 [==============================] - 4s 34ms/step - loss: 0.0588 - binary_accuracy: 0.9880 - val_loss: 0.5234 - val_binary_accuracy: 0.8976\n",
            "Epoch 50/50\n",
            "127/128 [============================>.] - ETA: 0s - loss: 0.0589 - binary_accuracy: 0.9879\n",
            "Epoch 50: val_binary_accuracy did not improve from 0.90945\n",
            "128/128 [==============================] - 5s 36ms/step - loss: 0.0588 - binary_accuracy: 0.9880 - val_loss: 0.5406 - val_binary_accuracy: 0.8947\n"
          ]
        }
      ],
      "source": [
        "model2.compile(\n",
        "    optimizer='adam',\n",
        "    loss='binary_crossentropy',\n",
        "    metrics=['binary_accuracy'],\n",
        ")\n",
        "\n",
        "history2 = model2.fit(\n",
        "    ds_train,\n",
        "    validation_data=ds_valid,\n",
        "    callbacks=callbacks,\n",
        "    epochs=50,\n",
        "    verbose=1,\n",
        ")"
      ]
    },
    {
      "cell_type": "markdown",
      "metadata": {
        "id": "o8mlzu_W1-u1"
      },
      "source": [
        "##Save Model"
      ]
    },
    {
      "cell_type": "code",
      "execution_count": null,
      "metadata": {
        "id": "BVmNrbBA0E2j"
      },
      "outputs": [],
      "source": [
        "model2.save('./Models/my_model2.keras')"
      ]
    },
    {
      "cell_type": "code",
      "execution_count": null,
      "metadata": {
        "colab": {
          "base_uri": "https://localhost:8080/",
          "height": 843
        },
        "id": "q0l46oTTusUB",
        "outputId": "a3335d44-643e-4507-f21f-459cad1e6c1f"
      },
      "outputs": [
        {
          "output_type": "display_data",
          "data": {
            "text/plain": [
              "<Figure size 640x480 with 1 Axes>"
            ],
            "image/png": "[encoded data removed]"
          },
          "metadata": {}
        },
        {
          "output_type": "display_data",
          "data": {
            "text/plain": [
              "<Figure size 640x480 with 1 Axes>"
            ],
            "image/png": "[encoded data removed]"
          },
          "metadata": {}
        }
      ],
      "source": [
        "import pandas as pd\n",
        "\n",
        "history_frame = pd.DataFrame(history2.history)\n",
        "history_frame.loc[:, ['loss', 'val_loss']].plot()\n",
        "history_frame.loc[:, ['binary_accuracy', 'val_binary_accuracy']].plot();"
      ]
    },
    {
      "cell_type": "code",
      "execution_count": null,
      "metadata": {
        "colab": {
          "base_uri": "https://localhost:8080/"
        },
        "id": "qLp701jivJpi",
        "outputId": "7f0f5d88-1d0c-4ee9-f5c3-d944f38c1682"
      },
      "outputs": [
        {
          "output_type": "stream",
          "name": "stdout",
          "text": [
            "16/16 [==============================] - 1s 34ms/step - loss: 0.3949 - binary_accuracy: 0.9037\n",
            "Test accuracy: 0.904\n",
            "Test loss: 0.395\n"
          ]
        }
      ],
      "source": [
        "test_loss, test_acc = model2.evaluate(ds_test)\n",
        "print(f\"Test accuracy: {test_acc:.3f}\")\n",
        "print(f\"Test loss: {test_loss:.3f}\")"
      ]
    },
    {
      "cell_type": "markdown",
      "metadata": {
        "id": "Pdsa7de20tfV"
      },
      "source": [
        "#Load weight"
      ]
    },
    {
      "cell_type": "code",
      "execution_count": null,
      "metadata": {
        "id": "wvopWjMAw93O"
      },
      "outputs": [],
      "source": [
        "from tensorflow.keras.applications.mobilenet_v2 import MobileNetV2\n",
        "\n",
        "pretrained_base = MobileNetV2(include_top=False,weights='imagenet',input_shape=(128,128,3))\n",
        "pretrained_base.trainable = False\n",
        "\n",
        "from tensorflow import keras\n",
        "from tensorflow.keras import layers\n",
        "\n",
        "model2_weight = keras.Sequential([\n",
        "    pretrained_base,\n",
        "    layers.Flatten(),\n",
        "    layers.Dense(6, activation='relu'),\n",
        "    layers.Dense(1, activation='sigmoid'),\n",
        "])\n",
        "\n",
        "\n",
        "model2_weight.compile(\n",
        "    optimizer='adam',\n",
        "    loss='binary_crossentropy',\n",
        "    metrics=['binary_accuracy'],\n",
        ")\n"
      ]
    },
    {
      "cell_type": "code",
      "execution_count": null,
      "metadata": {
        "colab": {
          "base_uri": "https://localhost:8080/"
        },
        "id": "9mti-z5xyJco",
        "outputId": "02da4cad-51d4-4a16-aa5a-177af4b8d2b5"
      },
      "outputs": [
        {
          "output_type": "stream",
          "name": "stdout",
          "text": [
            "16/16 [==============================] - 2s 33ms/step - loss: 0.8831 - binary_accuracy: 0.5442\n",
            "Test accuracy: 0.544\n",
            "Test loss: 0.883\n"
          ]
        }
      ],
      "source": [
        "test_loss, test_acc = model2_weight.evaluate(ds_test)\n",
        "print(f\"Test accuracy: {test_acc:.3f}\")\n",
        "print(f\"Test loss: {test_loss:.3f}\")"
      ]
    },
    {
      "cell_type": "code",
      "execution_count": null,
      "metadata": {
        "colab": {
          "base_uri": "https://localhost:8080/"
        },
        "id": "xufdU1o9yaVR",
        "outputId": "0037c758-d26b-4c48-e39e-664012612846"
      },
      "outputs": [
        {
          "output_type": "execute_result",
          "data": {
            "text/plain": [
              "<tensorflow.python.checkpoint.checkpoint.CheckpointLoadStatus at 0x7a9aa3567490>"
            ]
          },
          "metadata": {},
          "execution_count": 23
        }
      ],
      "source": [
        "# Loads the weights\n",
        "model2_weight.load_weights('./Models/CheckPoint/CarTruckMobile.ckpt')"
      ]
    },
    {
      "cell_type": "markdown",
      "metadata": {
        "id": "oSEx00q31PyV"
      },
      "source": [
        "#Load Model"
      ]
    },
    {
      "cell_type": "code",
      "execution_count": null,
      "metadata": {
        "id": "D6PfedlA1UBF"
      },
      "outputs": [],
      "source": [
        "import tensorflow as tf\n",
        "\n",
        "new_model = tf.keras.models.load_model('./Models/my_model.keras')"
      ]
    },
    {
      "cell_type": "code",
      "execution_count": null,
      "metadata": {
        "id": "3xJas5MC2Iil",
        "colab": {
          "base_uri": "https://localhost:8080/"
        },
        "outputId": "d7dc9f2e-73c9-4409-cd70-8bd71b51834b"
      },
      "outputs": [
        {
          "output_type": "stream",
          "name": "stdout",
          "text": [
            "16/16 [==============================] - 1s 14ms/step - loss: 0.4807 - binary_accuracy: 0.8202\n",
            "Test accuracy: 0.820\n",
            "Test loss: 0.481\n"
          ]
        }
      ],
      "source": [
        "test_loss, test_acc = new_model.evaluate(ds_test)\n",
        "print(f\"Test accuracy: {test_acc:.3f}\")\n",
        "print(f\"Test loss: {test_loss:.3f}\")"
      ]
    },
    {
      "cell_type": "code",
      "execution_count": null,
      "metadata": {
        "id": "oc52vumL3sR_"
      },
      "outputs": [],
      "source": [
        "converter = tf.lite.TFLiteConverter.from_keras_model(model)\n",
        "tflite_model = converter.convert()\n",
        "\n",
        "# Save the TensorFlow Lite model file.\n",
        "with open('./Models/my_model.tflite', \"wb\") as f:\n",
        "  f.write(tflite_model)"
      ]
    }
  ],
  "metadata": {
    "accelerator": "GPU",
    "colab": {
      "provenance": [],
      "gpuType": "T4"
    },
    "kernelspec": {
      "display_name": "Python 3",
      "name": "python3"
    },
    "language_info": {
      "name": "python"
    }
  },
  "nbformat": 4,
  "nbformat_minor": 0
}